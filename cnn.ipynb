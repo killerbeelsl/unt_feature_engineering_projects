{
 "cells": [
  {
   "cell_type": "code",
   "execution_count": 163,
   "id": "71ca9828",
   "metadata": {},
   "outputs": [],
   "source": [
    "import tensorflow as tf\n",
    "import matplotlib.pyplot as plt\n",
    "from tensorflow.keras.preprocessing.image import ImageDataGenerator\n",
    "from tensorflow.keras.models import Sequential\n",
    "from tensorflow.keras.layers import Conv2D, MaxPooling2D, Flatten, Dense\n",
    "from tensorflow.keras.optimizers import Adam\n",
    "from tensorflow.keras.layers import Dropout\n",
    "from sklearn.metrics import classification_report, accuracy_score"
   ]
  },
  {
   "cell_type": "code",
   "execution_count": null,
   "id": "3f44b31c",
   "metadata": {},
   "outputs": [],
   "source": []
  },
  {
   "cell_type": "code",
   "execution_count": 164,
   "id": "e8537669",
   "metadata": {},
   "outputs": [],
   "source": [
    "train_data_dir = \"Kidney_stone_detection-main/Kidney_stone_detection-main/Dataset/Train/\""
   ]
  },
  {
   "cell_type": "code",
   "execution_count": null,
   "id": "8ff404cd",
   "metadata": {},
   "outputs": [],
   "source": []
  },
  {
   "cell_type": "code",
   "execution_count": null,
   "id": "f3344114",
   "metadata": {},
   "outputs": [],
   "source": []
  },
  {
   "cell_type": "code",
   "execution_count": null,
   "id": "c1ac899c",
   "metadata": {},
   "outputs": [],
   "source": []
  },
  {
   "cell_type": "code",
   "execution_count": 174,
   "id": "197f3685",
   "metadata": {},
   "outputs": [],
   "source": [
    "img_size = (256, 256)  # adjust based on your image size\n",
    "batch_size = 10 ## changed batch size from 30 to 10 to 5"
   ]
  },
  {
   "cell_type": "code",
   "execution_count": 166,
   "id": "ae14e9c2",
   "metadata": {},
   "outputs": [],
   "source": [
    "train_datagen = ImageDataGenerator(\n",
    "    rescale=1./255,\n",
    "    shear_range=0.2,\n",
    "    zoom_range=0.2,\n",
    "    horizontal_flip=True\n",
    ")"
   ]
  },
  {
   "cell_type": "code",
   "execution_count": null,
   "id": "e49a8b07",
   "metadata": {},
   "outputs": [],
   "source": []
  },
  {
   "cell_type": "code",
   "execution_count": 167,
   "id": "67d58df3",
   "metadata": {},
   "outputs": [
    {
     "name": "stdout",
     "output_type": "stream",
     "text": [
      "Found 1453 images belonging to 2 classes.\n"
     ]
    }
   ],
   "source": [
    "# Load the training data using flow_from_directory\n",
    "train_generator = train_datagen.flow_from_directory(\n",
    "    train_data_dir,\n",
    "#     target_size=img_size,\n",
    "    batch_size=batch_size,\n",
    "    class_mode='binary'  # adjust if you have more than two classes\n",
    ")"
   ]
  },
  {
   "cell_type": "code",
   "execution_count": 168,
   "id": "45688575",
   "metadata": {},
   "outputs": [
    {
     "data": {
      "text/plain": [
       "256"
      ]
     },
     "execution_count": 168,
     "metadata": {},
     "output_type": "execute_result"
    }
   ],
   "source": [
    "len(train_generator[0][0][0][0])"
   ]
  },
  {
   "cell_type": "code",
   "execution_count": null,
   "id": "971f7e4b",
   "metadata": {},
   "outputs": [],
   "source": []
  },
  {
   "cell_type": "code",
   "execution_count": null,
   "id": "275daecc",
   "metadata": {},
   "outputs": [],
   "source": []
  },
  {
   "cell_type": "code",
   "execution_count": 169,
   "id": "79b84f12",
   "metadata": {},
   "outputs": [],
   "source": [
    "# Build the CNN model\n",
    "model = Sequential()\n",
    "model.add(Conv2D(32, (3, 3), input_shape=(img_size[0], img_size[1], 3), activation='relu'))\n",
    "model.add(MaxPooling2D(pool_size=(2, 2)))\n",
    "\n",
    "model.add(Conv2D(64, (3, 3), activation='relu'))\n",
    "model.add(MaxPooling2D(pool_size=(2, 2)))\n",
    "\n",
    "model.add(Conv2D(128, (3, 3), activation='relu'))\n",
    "model.add(MaxPooling2D(pool_size=(2, 2)))\n",
    "\n",
    "model.add(Flatten())\n",
    "model.add(Dense(128, activation='relu'))\n",
    "model.add(Dense(1, activation='sigmoid'))  # adjust the number of units for more classes"
   ]
  },
  {
   "cell_type": "code",
   "execution_count": 170,
   "id": "fec1069e",
   "metadata": {},
   "outputs": [],
   "source": [
    "custom_optimizer = Adam(learning_rate=0.0001)"
   ]
  },
  {
   "cell_type": "code",
   "execution_count": 171,
   "id": "3ae0b3ff",
   "metadata": {},
   "outputs": [],
   "source": [
    "# Compile the model\n",
    "model.compile(optimizer=custom_optimizer, loss='binary_crossentropy', metrics=['accuracy'])"
   ]
  },
  {
   "cell_type": "code",
   "execution_count": 172,
   "id": "5d3b2b5c",
   "metadata": {},
   "outputs": [
    {
     "name": "stdout",
     "output_type": "stream",
     "text": [
      "Epoch 1/10\n",
      "146/146 [==============================] - 112s 758ms/step - loss: 0.6781 - accuracy: 0.5871\n",
      "Epoch 2/10\n",
      "146/146 [==============================] - 86s 588ms/step - loss: 0.6502 - accuracy: 0.6187\n",
      "Epoch 3/10\n",
      "146/146 [==============================] - 86s 587ms/step - loss: 0.6115 - accuracy: 0.6710\n",
      "Epoch 4/10\n",
      "146/146 [==============================] - 85s 581ms/step - loss: 0.5746 - accuracy: 0.7061\n",
      "Epoch 5/10\n",
      "146/146 [==============================] - 85s 583ms/step - loss: 0.5380 - accuracy: 0.7433\n",
      "Epoch 6/10\n",
      "146/146 [==============================] - 88s 603ms/step - loss: 0.4957 - accuracy: 0.7632\n",
      "Epoch 7/10\n",
      "146/146 [==============================] - 90s 615ms/step - loss: 0.4615 - accuracy: 0.7887\n",
      "Epoch 8/10\n",
      "146/146 [==============================] - 85s 581ms/step - loss: 0.4312 - accuracy: 0.8052\n",
      "Epoch 9/10\n",
      "146/146 [==============================] - 85s 583ms/step - loss: 0.4086 - accuracy: 0.8142\n",
      "Epoch 10/10\n",
      "146/146 [==============================] - 84s 576ms/step - loss: 0.3913 - accuracy: 0.8245\n"
     ]
    },
    {
     "data": {
      "text/plain": [
       "<keras.src.callbacks.History at 0x1989639e2d0>"
      ]
     },
     "execution_count": 172,
     "metadata": {},
     "output_type": "execute_result"
    }
   ],
   "source": [
    "# Train the model\n",
    "model.fit(train_generator, epochs=10)"
   ]
  },
  {
   "cell_type": "code",
   "execution_count": null,
   "id": "0ead3940",
   "metadata": {},
   "outputs": [],
   "source": []
  },
  {
   "cell_type": "code",
   "execution_count": 173,
   "id": "0b934ca0",
   "metadata": {},
   "outputs": [
    {
     "name": "stdout",
     "output_type": "stream",
     "text": [
      "Found 346 images belonging to 2 classes.\n",
      "35/35 [==============================] - 10s 289ms/step - loss: 0.4684 - accuracy: 0.7659\n",
      "Test Accuracy: 0.7658959627151489\n",
      "Test Loss: 0.46836522221565247\n"
     ]
    }
   ],
   "source": [
    "# Set the path to your test data\n",
    "test_data_dir = \"Kidney_stone_detection-main/Kidney_stone_detection-main/Dataset/Test/\"\n",
    "\n",
    "# Use ImageDataGenerator for normalization (no data augmentation for testing)\n",
    "test_datagen = ImageDataGenerator(rescale=1./255)\n",
    "\n",
    "# Load the test data using flow_from_directory\n",
    "test_generator = test_datagen.flow_from_directory(\n",
    "    test_data_dir,\n",
    "    target_size=img_size,\n",
    "    batch_size=batch_size,\n",
    "    class_mode='binary'  # adjust if you have more than two classes\n",
    ")\n",
    "\n",
    "# Evaluate the model on the test data\n",
    "evaluation = model.evaluate(test_generator)\n",
    "\n",
    "# Display the evaluation metrics\n",
    "print(\"Test Accuracy:\", evaluation[1])\n",
    "print(\"Test Loss:\", evaluation[0])\n"
   ]
  },
  {
   "cell_type": "code",
   "execution_count": 154,
   "id": "89d98665",
   "metadata": {},
   "outputs": [
    {
     "name": "stdout",
     "output_type": "stream",
     "text": [
      "12/12 [==============================] - 8s 665ms/step\n"
     ]
    }
   ],
   "source": [
    "y_pred = model.predict(test_generator)\n",
    "y_pred_classes = (y_pred > 0.5).astype(int)  # Assuming binary classification, adjust threshold if needed\n",
    "\n",
    "# Get true labels for the test data\n",
    "y_true = test_generator.classes"
   ]
  },
  {
   "cell_type": "code",
   "execution_count": 162,
   "id": "45a7ec90",
   "metadata": {},
   "outputs": [
    {
     "name": "stdout",
     "output_type": "stream",
     "text": [
      "              precision    recall  f1-score   support\n",
      "\n",
      "      Normal       0.48      0.45      0.47       165\n",
      "Kidney_stone       0.52      0.55      0.54       181\n",
      "\n",
      "    accuracy                           0.50       346\n",
      "   macro avg       0.50      0.50      0.50       346\n",
      "weighted avg       0.50      0.50      0.50       346\n",
      "\n"
     ]
    }
   ],
   "source": [
    "report = classification_report(y_true, y_pred_classes, target_names=[\"Normal\", \"Kidney_stone\"])  # Adjust class names\n",
    "print(report)"
   ]
  },
  {
   "cell_type": "code",
   "execution_count": null,
   "id": "eac69b48",
   "metadata": {},
   "outputs": [],
   "source": []
  }
 ],
 "metadata": {
  "kernelspec": {
   "display_name": "Python 3 (ipykernel)",
   "language": "python",
   "name": "python3"
  },
  "language_info": {
   "codemirror_mode": {
    "name": "ipython",
    "version": 3
   },
   "file_extension": ".py",
   "mimetype": "text/x-python",
   "name": "python",
   "nbconvert_exporter": "python",
   "pygments_lexer": "ipython3",
   "version": "3.11.4"
  }
 },
 "nbformat": 4,
 "nbformat_minor": 5
}

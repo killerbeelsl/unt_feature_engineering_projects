{
  "nbformat": 4,
  "nbformat_minor": 0,
  "metadata": {
    "colab": {
      "provenance": []
    },
    "kernelspec": {
      "name": "python3",
      "display_name": "Python 3"
    },
    "language_info": {
      "name": "python"
    }
  },
  "cells": [
    {
      "cell_type": "code",
      "source": [
        "from google.colab import drive\n",
        "\n",
        "drive.mount('/content/drive')\n"
      ],
      "metadata": {
        "colab": {
          "base_uri": "https://localhost:8080/"
        },
        "id": "dsrUqpikGvJY",
        "outputId": "24dc5e05-78fc-4a3b-8764-69eafd4a7c64"
      },
      "execution_count": null,
      "outputs": [
        {
          "output_type": "stream",
          "name": "stdout",
          "text": [
            "Mounted at /content/drive\n"
          ]
        }
      ]
    },
    {
      "cell_type": "code",
      "source": [
        "drive_folder_path = '//content/drive/MyDrive/Dataset'\n"
      ],
      "metadata": {
        "id": "3WFKJIo9GvLr"
      },
      "execution_count": null,
      "outputs": []
    },
    {
      "cell_type": "code",
      "source": [
        "import os\n",
        "\n",
        "files_list = os.listdir(drive_folder_path)\n",
        "print(files_list)\n"
      ],
      "metadata": {
        "colab": {
          "base_uri": "https://localhost:8080/"
        },
        "id": "f33PV6IKGvN8",
        "outputId": "550bfc9c-c5b1-4651-bca2-d540212ace3a"
      },
      "execution_count": null,
      "outputs": [
        {
          "output_type": "stream",
          "name": "stdout",
          "text": [
            "['.DS_Store', 'Train', 'Test']\n"
          ]
        }
      ]
    },
    {
      "cell_type": "code",
      "source": [
        "from tensorflow.keras.preprocessing.image import ImageDataGenerator\n",
        "\n",
        "# Specify the folder names for training and testing\n",
        "train_folder = 'Train'\n",
        "test_folder = 'Test'\n",
        "\n",
        "# Create data generators\n",
        "train_datagen = ImageDataGenerator(rescale=1./255)\n",
        "test_datagen = ImageDataGenerator(rescale=1./255)\n",
        "\n",
        "# Load training images\n",
        "train_generator = train_datagen.flow_from_directory(\n",
        "    os.path.join(drive_folder_path, train_folder),\n",
        "    target_size=(224, 224),\n",
        "    batch_size=20,\n",
        "    class_mode='binary'  # or 'categorical' if you have more than two classes\n",
        ")\n",
        "\n",
        "# Load testing images\n",
        "test_generator = test_datagen.flow_from_directory(\n",
        "    os.path.join(drive_folder_path, test_folder),\n",
        "    target_size=(224, 224),\n",
        "    batch_size=20,\n",
        "    class_mode='binary'\n",
        ")\n"
      ],
      "metadata": {
        "colab": {
          "base_uri": "https://localhost:8080/"
        },
        "id": "-VhAfOPvHjG1",
        "outputId": "5eba665f-6b9c-4fff-f328-ab87e86354b3"
      },
      "execution_count": null,
      "outputs": [
        {
          "output_type": "stream",
          "name": "stdout",
          "text": [
            "Found 1453 images belonging to 2 classes.\n",
            "Found 346 images belonging to 2 classes.\n"
          ]
        }
      ]
    },
    {
      "cell_type": "code",
      "source": [
        "import os\n",
        "import tensorflow as tf\n",
        "from tensorflow.keras.preprocessing.image import ImageDataGenerator\n",
        "from tensorflow.keras.applications import ResNet50\n",
        "from tensorflow.keras import layers, models\n",
        "\n",
        "# Define the paths\n",
        "drive_folder_path = '/content/drive/MyDrive/Dataset'  # Removed quotes around \"Kidney Stones\"\n",
        "train_folder = 'Train'\n",
        "\n",
        "# Create data generator\n",
        "train_datagen = ImageDataGenerator(rescale=1./255)\n",
        "\n",
        "# Load training images\n",
        "train_generator = train_datagen.flow_from_directory(\n",
        "    os.path.join(drive_folder_path, train_folder),\n",
        "    target_size=(224, 224),\n",
        "    batch_size=20,\n",
        "    class_mode='binary'  # binary classification\n",
        ")\n",
        "\n",
        "# Load pre-trained ResNet50 model\n",
        "base_model = ResNet50(weights='imagenet', include_top=False, input_shape=(224, 224, 3))\n",
        "\n",
        "# Freeze the layers of the pre-trained model\n",
        "for layer in base_model.layers:\n",
        "    layer.trainable = False\n",
        "\n",
        "# Create a new model on top of the pre-trained ResNet50\n",
        "model = models.Sequential()\n",
        "model.add(base_model)\n",
        "model.add(layers.GlobalAveragePooling2D())\n",
        "model.add(layers.Dense(1, activation='sigmoid'))\n",
        "\n",
        "# Compile the model\n",
        "model.compile(optimizer='adam', loss='binary_crossentropy', metrics=['accuracy'])\n",
        "\n",
        "# Train the model\n",
        "history = model.fit(train_generator, epochs=10)\n",
        "\n",
        "# Save the trained model\n",
        "model.save('/content/drive/MyDrive/Kidney_Stones_ResNet_model.h5')\n"
      ],
      "metadata": {
        "colab": {
          "base_uri": "https://localhost:8080/"
        },
        "id": "PFmIm1SuI6G1",
        "outputId": "37f97265-35e7-40d1-ca27-df5c0a7d3f90"
      },
      "execution_count": null,
      "outputs": [
        {
          "output_type": "stream",
          "name": "stdout",
          "text": [
            "Found 1453 images belonging to 2 classes.\n",
            "Downloading data from https://storage.googleapis.com/tensorflow/keras-applications/resnet/resnet50_weights_tf_dim_ordering_tf_kernels_notop.h5\n",
            "94765736/94765736 [==============================] - 0s 0us/step\n",
            "Epoch 1/10\n",
            "73/73 [==============================] - 330s 4s/step - loss: 0.6942 - accuracy: 0.5678\n",
            "Epoch 2/10\n",
            "73/73 [==============================] - 314s 4s/step - loss: 0.6683 - accuracy: 0.5905\n",
            "Epoch 3/10\n",
            "73/73 [==============================] - 315s 4s/step - loss: 0.6644 - accuracy: 0.5974\n",
            "Epoch 4/10\n",
            "73/73 [==============================] - 311s 4s/step - loss: 0.6650 - accuracy: 0.6008\n",
            "Epoch 5/10\n",
            "73/73 [==============================] - 310s 4s/step - loss: 0.6594 - accuracy: 0.6111\n",
            "Epoch 6/10\n",
            "73/73 [==============================] - 311s 4s/step - loss: 0.6602 - accuracy: 0.6139\n",
            "Epoch 7/10\n",
            "73/73 [==============================] - 319s 4s/step - loss: 0.6546 - accuracy: 0.6118\n",
            "Epoch 8/10\n",
            "73/73 [==============================] - 310s 4s/step - loss: 0.6537 - accuracy: 0.6215\n",
            "Epoch 9/10\n",
            "73/73 [==============================] - 310s 4s/step - loss: 0.6504 - accuracy: 0.6339\n",
            "Epoch 10/10\n",
            "73/73 [==============================] - 310s 4s/step - loss: 0.6533 - accuracy: 0.6263\n"
          ]
        },
        {
          "output_type": "stream",
          "name": "stderr",
          "text": [
            "/usr/local/lib/python3.10/dist-packages/keras/src/engine/training.py:3079: UserWarning: You are saving your model as an HDF5 file via `model.save()`. This file format is considered legacy. We recommend using instead the native Keras format, e.g. `model.save('my_model.keras')`.\n",
            "  saving_api.save_model(\n"
          ]
        }
      ]
    },
    {
      "cell_type": "code",
      "source": [
        "# Define the paths for test data\n",
        "test_folder = 'Test'\n",
        "\n",
        "# Create data generator for test data\n",
        "test_datagen = ImageDataGenerator(rescale=1./255)\n",
        "\n",
        "# Load test images\n",
        "test_generator = test_datagen.flow_from_directory(\n",
        "    os.path.join(drive_folder_path, test_folder),\n",
        "    target_size=(224, 224),\n",
        "    batch_size=20,\n",
        "    class_mode='binary'  # binary classification\n",
        ")\n",
        "\n",
        "# Make predictions on the test data\n",
        "predictions = model.predict(test_generator)\n",
        "\n",
        "# The predictions array contains probabilities; convert them to binary predictions (0 or 1)\n",
        "binary_predictions = (predictions > 0.5).astype(int)\n",
        "\n",
        "# Display a few predictions\n",
        "print(\"Sample predictions:\")\n",
        "for i in range(10):\n",
        "    print(f\"Image {i + 1}: Predicted={binary_predictions[i]}, Actual={test_generator.classes[i]}\")\n"
      ],
      "metadata": {
        "colab": {
          "base_uri": "https://localhost:8080/"
        },
        "id": "oYQX9hb2J04C",
        "outputId": "9ee75cf8-39bd-4c54-bcf5-82ff66e4c80d"
      },
      "execution_count": null,
      "outputs": [
        {
          "output_type": "stream",
          "name": "stdout",
          "text": [
            "Found 346 images belonging to 2 classes.\n",
            "18/18 [==============================] - 85s 5s/step\n",
            "Sample predictions:\n",
            "Image 1: Predicted=[0], Actual=0\n",
            "Image 2: Predicted=[1], Actual=0\n",
            "Image 3: Predicted=[0], Actual=0\n",
            "Image 4: Predicted=[1], Actual=0\n",
            "Image 5: Predicted=[1], Actual=0\n",
            "Image 6: Predicted=[1], Actual=0\n",
            "Image 7: Predicted=[1], Actual=0\n",
            "Image 8: Predicted=[0], Actual=0\n",
            "Image 9: Predicted=[1], Actual=0\n",
            "Image 10: Predicted=[1], Actual=0\n"
          ]
        }
      ]
    },
    {
      "cell_type": "code",
      "source": [
        "from sklearn.metrics import classification_report\n",
        "\n",
        "# Evaluate the model on the test set\n",
        "test_loss, test_accuracy = model.evaluate(test_generator)\n",
        "print(f'\\nTest Accuracy: {test_accuracy:.4f}')\n",
        "print(f'Test Loss: {test_loss:.4f}')\n",
        "\n",
        "# Make predictions on the test data\n",
        "predictions = model.predict(test_generator)\n",
        "\n",
        "# The predictions array contains probabilities; convert them to binary predictions (0 or 1)\n",
        "binary_predictions = (predictions > 0.5).astype(int)\n",
        "\n",
        "# Get true labels\n",
        "true_labels = test_generator.classes\n",
        "\n",
        "# Display a classification report\n",
        "print(\"\\nClassification Report:\")\n",
        "print(classification_report(true_labels, binary_predictions))\n"
      ],
      "metadata": {
        "id": "MOKBU--kyrgr",
        "colab": {
          "base_uri": "https://localhost:8080/"
        },
        "outputId": "be10cf15-174c-4972-925f-f19f1be82655"
      },
      "execution_count": 14,
      "outputs": [
        {
          "output_type": "stream",
          "name": "stdout",
          "text": [
            "18/18 [==============================] - 75s 4s/step - loss: 0.6850 - accuracy: 0.5780\n",
            "\n",
            "Test Accuracy: 0.5780\n",
            "Test Loss: 0.6850\n",
            "18/18 [==============================] - 75s 4s/step\n",
            "\n",
            "Classification Report:\n",
            "              precision    recall  f1-score   support\n",
            "\n",
            "           0       0.48      0.22      0.30       165\n",
            "           1       0.52      0.78      0.63       181\n",
            "\n",
            "    accuracy                           0.51       346\n",
            "   macro avg       0.50      0.50      0.46       346\n",
            "weighted avg       0.50      0.51      0.47       346\n",
            "\n"
          ]
        }
      ]
    }
  ]
}
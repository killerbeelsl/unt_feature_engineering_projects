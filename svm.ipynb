{
  "nbformat": 4,
  "nbformat_minor": 0,
  "metadata": {
    "colab": {
      "provenance": []
    },
    "kernelspec": {
      "name": "python3",
      "display_name": "Python 3"
    },
    "language_info": {
      "name": "python"
    }
  },
  "cells": [
    {
      "cell_type": "code",
      "execution_count": 1,
      "metadata": {
        "id": "Ke2Q_lVmss9f"
      },
      "outputs": [],
      "source": [
        "import warnings\n",
        "warnings.filterwarnings('ignore')"
      ]
    },
    {
      "cell_type": "code",
      "source": [
        "import os\n",
        "import cv2\n",
        "import numpy as np\n",
        "from sklearn.model_selection import train_test_split\n",
        "from sklearn.svm import SVC\n",
        "from sklearn.metrics import accuracy_score\n",
        "from sklearn.preprocessing import StandardScaler\n",
        "from sklearn.pipeline import make_pipeline\n",
        "from sklearn import metrics\n",
        "\n",
        "# Define the paths to your stone and normal image directories\n",
        "stone_dir = \"/content/drive/MyDrive/Kidney_stone_detection-main/Kidney_stone_detection-main/Dataset/Train/Kidney_stone\"\n",
        "normal_dir = \"/content/drive/MyDrive/Kidney_stone_detection-main/Kidney_stone_detection-main/Dataset/Train/Normal\"\n",
        "\n",
        "# Function to load and preprocess images\n",
        "def load_and_preprocess_images(image_dir, label):\n",
        "    images = []\n",
        "    labels = []\n",
        "    for filename in os.listdir(image_dir):\n",
        "        if filename.endswith(\".jpg\") or filename.endswith(\".png\"):\n",
        "            # Read the image\n",
        "            image_path = os.path.join(image_dir, filename)\n",
        "            image = cv2.imread(image_path, cv2.IMREAD_GRAYSCALE)  # Assuming images are grayscale\n",
        "\n",
        "            # Normalize pixel values to be between 0 and 1\n",
        "            image = image / 255.0\n",
        "\n",
        "            # Resize the images to a standard size (e.g., 128x128)\n",
        "            image = cv2.resize(image, (128, 128))\n",
        "\n",
        "            images.append(image.flatten())  # Flatten the image to a 1D array\n",
        "            labels.append(label)\n",
        "\n",
        "    return images, labels\n",
        "\n",
        "# Load and preprocess stone images\n",
        "stone_images, stone_labels = load_and_preprocess_images(stone_dir, label=1)\n",
        "\n",
        "# Load and preprocess normal images\n",
        "normal_images, normal_labels = load_and_preprocess_images(normal_dir, label=0)\n",
        "\n",
        "# Combine stone and normal data\n",
        "X = stone_images + normal_images\n",
        "y = stone_labels + normal_labels\n",
        "\n",
        "# Convert the lists to NumPy arrays for compatibility with scikit-learn\n",
        "X = np.array(X)\n",
        "y = np.array(y)\n",
        "\n",
        "# Split the data into training and testing sets\n",
        "X_train, X_test, y_train, y_test = train_test_split(X, y, test_size=0.2, random_state=42)\n",
        "\n",
        "# Standardize features by removing the mean and scaling to unit variance\n",
        "scaler = StandardScaler()\n",
        "\n",
        "# Create an SVM classifier\n",
        "svm_classifier = make_pipeline(scaler, SVC(C=1.0, kernel='rbf', gamma='auto'))\n",
        "\n",
        "# Train the SVM classifier\n",
        "svm_classifier.fit(X_train, y_train)\n",
        "\n",
        "# Make predictions on the test set\n",
        "y_pred = svm_classifier.predict(X_test)\n",
        "\n",
        "# Evaluate the accuracy\n",
        "accuracy = accuracy_score(y_test, y_pred)\n",
        "print(f\"Accuracy: {accuracy}\")\n",
        "\n",
        "# Additional metrics\n",
        "print(\"Classification Report:\\n\", metrics.classification_report(y_test, y_pred))\n",
        "print(\"Confusion Matrix:\\n\", metrics.confusion_matrix(y_test, y_pred))\n"
      ],
      "metadata": {
        "colab": {
          "base_uri": "https://localhost:8080/"
        },
        "id": "l9J2MKErsw0L",
        "outputId": "13551c3e-5e00-466e-a42a-2bf804fe7a4f"
      },
      "execution_count": 2,
      "outputs": [
        {
          "output_type": "stream",
          "name": "stdout",
          "text": [
            "Accuracy: 0.9140893470790378\n",
            "Classification Report:\n",
            "               precision    recall  f1-score   support\n",
            "\n",
            "           0       0.87      0.99      0.93       166\n",
            "           1       0.99      0.81      0.89       125\n",
            "\n",
            "    accuracy                           0.91       291\n",
            "   macro avg       0.93      0.90      0.91       291\n",
            "weighted avg       0.92      0.91      0.91       291\n",
            "\n",
            "Confusion Matrix:\n",
            " [[165   1]\n",
            " [ 24 101]]\n"
          ]
        }
      ]
    }
  ]
}